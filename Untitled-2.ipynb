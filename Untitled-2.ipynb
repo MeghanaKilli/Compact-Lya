{
 "cells": [
  {
   "cell_type": "code",
   "execution_count": null,
   "metadata": {},
   "outputs": [],
   "source": [
    "import numpy as np\n",
    "from astropy.table import Table\n",
    "\n",
    "def hextodeg(ra, dec):\n",
    "    ra1, ra2, ra3 = ra\n",
    "    dec1, dec2, dec3 = dec\n",
    "    raout = 15*(ra1+(ra2/60)+(ra3/3600))\n",
    "    decout = np.abs(dec1)+np.abs(dec2/60)+np.abs(dec3/3600)\n",
    "    return(raout, (dec1/np.abs(dec1))*decout)\n",
    "\n",
    "def degtohex(ra, dec):\n",
    "    ra1 = np.floor(ra/15)\n",
    "    ra2 = np.floor(60*np.modf(ra/15)[0])\n",
    "    ra3 = 60*np.modf(60*np.modf(ra/15)[0])[0]\n",
    "    dec1 = np.floor(np.abs(dec))\n",
    "    dec2 = np.floor(60*np.modf(np.abs(dec))[0])\n",
    "    dec3 = 60*np.modf(60*np.modf(np.abs(dec))[0])[0]\n",
    "    return(f'{int(ra1)}:{int(ra2)}:{str(round(ra3,3)).zfill(5)}, {int((dec/np.abs(dec))*dec1)}:{int(dec2)}:{str(round(dec3,3)).zfill(5)}')"
   ]
  }
 ],
 "metadata": {
  "kernelspec": {
   "display_name": "Python 3",
   "language": "python",
   "name": "python3"
  },
  "language_info": {
   "codemirror_mode": {
    "name": "ipython",
    "version": 3
   },
   "file_extension": ".py",
   "mimetype": "text/x-python",
   "name": "python",
   "nbconvert_exporter": "python",
   "pygments_lexer": "ipython3",
   "version": "3.7.4"
  }
 },
 "nbformat": 4,
 "nbformat_minor": 2
}
